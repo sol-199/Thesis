{
  "nbformat": 4,
  "nbformat_minor": 0,
  "metadata": {
    "colab": {
      "name": "Untitled1.ipynb",
      "provenance": [],
      "authorship_tag": "ABX9TyOm7CFMwWth0bpAalpDJ+cE",
      "include_colab_link": true
    },
    "kernelspec": {
      "name": "python3",
      "display_name": "Python 3"
    },
    "language_info": {
      "name": "python"
    },
    "accelerator": "GPU",
    "gpuClass": "standard"
  },
  "cells": [
    {
      "cell_type": "markdown",
      "metadata": {
        "id": "view-in-github",
        "colab_type": "text"
      },
      "source": [
        "<a href=\"https://colab.research.google.com/github/sol-199/Thesis/blob/main/Thesis.ipynb\" target=\"_parent\"><img src=\"https://colab.research.google.com/assets/colab-badge.svg\" alt=\"Open In Colab\"/></a>"
      ]
    },
    {
      "cell_type": "code",
      "source": [
        "%tensorflow_version 2.x\n",
        "import tensorflow as tf\n",
        "device_name = tf.test.gpu_device_name()\n",
        "if device_name != '/device:GPU:0':\n",
        "  raise SystemError('GPU device not found')\n",
        "print('Found GPU at: {}'.format(device_name))"
      ],
      "metadata": {
        "colab": {
          "base_uri": "https://localhost:8080/"
        },
        "id": "dYyMPXJqN0aX",
        "outputId": "fa402090-9b82-4e83-dcc4-d98e1e54bbf2"
      },
      "execution_count": null,
      "outputs": [
        {
          "output_type": "stream",
          "name": "stdout",
          "text": [
            "Found GPU at: /device:GPU:0\n"
          ]
        }
      ]
    },
    {
      "cell_type": "code",
      "source": [
        "%tensorflow_version 2.x\n",
        "import tensorflow as tf\n",
        "import timeit\n",
        "\n",
        "device_name = tf.test.gpu_device_name()\n",
        "if device_name != '/device:GPU:0':\n",
        "  print(\n",
        "      '\\n\\nThis error most likely means that this notebook is not '\n",
        "      'configured to use a GPU.  Change this in Notebook Settings via the '\n",
        "      'command palette (cmd/ctrl-shift-P) or the Edit menu.\\n\\n')\n",
        "  raise SystemError('GPU device not found')\n",
        "\n",
        "def cpu():\n",
        "  with tf.device('/cpu:0'):\n",
        "    random_image_cpu = tf.random.normal((100, 100, 100, 3))\n",
        "    net_cpu = tf.keras.layers.Conv2D(32, 7)(random_image_cpu)\n",
        "    return tf.math.reduce_sum(net_cpu)\n",
        "\n",
        "def gpu():\n",
        "  with tf.device('/device:GPU:0'):\n",
        "    random_image_gpu = tf.random.normal((100, 100, 100, 3))\n",
        "    net_gpu = tf.keras.layers.Conv2D(32, 7)(random_image_gpu)\n",
        "    return tf.math.reduce_sum(net_gpu)\n",
        "  \n",
        "# We run each op once to warm up; see: https://stackoverflow.com/a/45067900\n",
        "cpu()\n",
        "gpu()\n",
        "\n",
        "# Run the op several times.\n",
        "print('Time (s) to convolve 32x7x7x3 filter over random 100x100x100x3 images '\n",
        "      '(batch x height x width x channel). Sum of ten runs.')\n",
        "print('CPU (s):')\n",
        "cpu_time = timeit.timeit('cpu()', number=10, setup=\"from __main__ import cpu\")\n",
        "print(cpu_time)\n",
        "print('GPU (s):')\n",
        "gpu_time = timeit.timeit('gpu()', number=10, setup=\"from __main__ import gpu\")\n",
        "print(gpu_time)\n",
        "print('GPU speedup over CPU: {}x'.format(int(cpu_time/gpu_time)))"
      ],
      "metadata": {
        "colab": {
          "base_uri": "https://localhost:8080/"
        },
        "id": "CgFMEYcCN59F",
        "outputId": "9dab5ea9-0d95-4f96-b487-f7b8f37dec1f"
      },
      "execution_count": null,
      "outputs": [
        {
          "output_type": "stream",
          "name": "stdout",
          "text": [
            "Time (s) to convolve 32x7x7x3 filter over random 100x100x100x3 images (batch x height x width x channel). Sum of ten runs.\n",
            "CPU (s):\n",
            "2.785174517999991\n",
            "GPU (s):\n",
            "0.03832702200000426\n",
            "GPU speedup over CPU: 72x\n"
          ]
        }
      ]
    },
    {
      "cell_type": "code",
      "source": [
        "import tensorflow as tf\n",
        "\n",
        "import os\n",
        "import pathlib\n",
        "import time\n",
        "import datetime\n",
        "\n",
        "from matplotlib import pyplot as plt\n",
        "from IPython import display"
      ],
      "metadata": {
        "id": "MI1ika1OOQMC"
      },
      "execution_count": 9,
      "outputs": []
    },
    {
      "cell_type": "code",
      "source": [
        "!unzip \"/Images.zip\" -d \"/root/.keras/datasets/\""
      ],
      "metadata": {
        "id": "7KV7ekemdFlD",
        "outputId": "336eeab6-15b5-4735-b410-ca68a07011c4",
        "colab": {
          "base_uri": "https://localhost:8080/"
        }
      },
      "execution_count": 10,
      "outputs": [
        {
          "output_type": "stream",
          "name": "stdout",
          "text": [
            "Archive:  /Images.zip\n",
            "  inflating: /root/.keras/datasets/Images/test/1.jpg  \n",
            "  inflating: /root/.keras/datasets/Images/test/2.jpg  \n",
            "  inflating: /root/.keras/datasets/Images/test/3.jpg  \n",
            "  inflating: /root/.keras/datasets/Images/test/4.jpg  \n",
            "  inflating: /root/.keras/datasets/Images/test/5.jpg  \n",
            "  inflating: /root/.keras/datasets/Images/test/6.jpg  \n",
            "  inflating: /root/.keras/datasets/Images/train/1.jpg  \n",
            "  inflating: /root/.keras/datasets/Images/train/10.jpg  \n",
            "  inflating: /root/.keras/datasets/Images/train/11.jpg  \n",
            "  inflating: /root/.keras/datasets/Images/train/12.jpg  \n",
            "  inflating: /root/.keras/datasets/Images/train/13.jpg  \n",
            "  inflating: /root/.keras/datasets/Images/train/14.jpg  \n",
            "  inflating: /root/.keras/datasets/Images/train/15.jpg  \n",
            "  inflating: /root/.keras/datasets/Images/train/16.jpg  \n",
            "  inflating: /root/.keras/datasets/Images/train/17.jpg  \n",
            "  inflating: /root/.keras/datasets/Images/train/18.jpg  \n",
            "  inflating: /root/.keras/datasets/Images/train/19.jpg  \n",
            "  inflating: /root/.keras/datasets/Images/train/2.jpg  \n",
            "  inflating: /root/.keras/datasets/Images/train/20.jpg  \n",
            "  inflating: /root/.keras/datasets/Images/train/21.jpg  \n",
            "  inflating: /root/.keras/datasets/Images/train/22.jpg  \n",
            "  inflating: /root/.keras/datasets/Images/train/23.jpg  \n",
            "  inflating: /root/.keras/datasets/Images/train/3.jpg  \n",
            "  inflating: /root/.keras/datasets/Images/train/4.jpg  \n",
            "  inflating: /root/.keras/datasets/Images/train/5.jpg  \n",
            "  inflating: /root/.keras/datasets/Images/train/6.jpg  \n",
            "  inflating: /root/.keras/datasets/Images/train/7.jpg  \n",
            "  inflating: /root/.keras/datasets/Images/train/8.jpg  \n",
            "  inflating: /root/.keras/datasets/Images/train/9.jpg  \n",
            "  inflating: /root/.keras/datasets/Images/val/1.jpg  \n",
            "  inflating: /root/.keras/datasets/Images/val/2.jpg  \n",
            "  inflating: /root/.keras/datasets/Images/val/3.jpg  \n",
            "  inflating: /root/.keras/datasets/Images/val/4.jpg  \n",
            "  inflating: /root/.keras/datasets/Images/val/5.jpg  \n",
            "  inflating: /root/.keras/datasets/Images/val/6.jpg  \n"
          ]
        }
      ]
    },
    {
      "cell_type": "code",
      "source": [
        "from pathlib import Path"
      ],
      "metadata": {
        "id": "ceiuMcqPdv8Z"
      },
      "execution_count": 11,
      "outputs": []
    },
    {
      "cell_type": "code",
      "source": [
        "PATH = Path ('/root/.keras/datasets/Images')"
      ],
      "metadata": {
        "id": "h7d-g5eydzNA"
      },
      "execution_count": 12,
      "outputs": []
    },
    {
      "cell_type": "code",
      "source": [
        "list(PATH.parent.iterdir())"
      ],
      "metadata": {
        "id": "AqIUYiVxd79W",
        "outputId": "f58cdebc-a464-4f89-8747-c277af138793",
        "colab": {
          "base_uri": "https://localhost:8080/"
        }
      },
      "execution_count": 13,
      "outputs": [
        {
          "output_type": "execute_result",
          "data": {
            "text/plain": [
              "[PosixPath('/root/.keras/datasets/Images')]"
            ]
          },
          "metadata": {},
          "execution_count": 13
        }
      ]
    },
    {
      "cell_type": "code",
      "source": [
        "sample_image = tf.io.read_file(str(PATH / 'train/1.jpg'))\n",
        "sample_image = tf.io.decode_jpeg(sample_image)\n",
        "print(sample_image.shape)"
      ],
      "metadata": {
        "id": "f7w0PIK3d-y3",
        "outputId": "4c4bec8f-afad-4eb2-9da1-f170d06b8303",
        "colab": {
          "base_uri": "https://localhost:8080/"
        }
      },
      "execution_count": 14,
      "outputs": [
        {
          "output_type": "stream",
          "name": "stdout",
          "text": [
            "(256, 512, 3)\n"
          ]
        }
      ]
    }
  ]
}